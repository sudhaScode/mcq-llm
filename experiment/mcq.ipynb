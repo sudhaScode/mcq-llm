{
 "cells": [
  {
   "cell_type": "code",
   "execution_count": null,
   "metadata": {},
   "outputs": [],
   "source": [
    "print(\"Hello\")"
   ]
  }
 ],
 "metadata": {
  "kernelspec": {
   "display_name": "Python 3.11.5 ('base')",
   "language": "python",
   "name": "python3"
  },
  "language_info": {
   "name": "python",
   "version": "3.11.5"
  },
  "orig_nbformat": 4,
  "vscode": {
   "interpreter": {
    "hash": "b04c6630586d5dc30cfed8313a240d856711aa026d6ff5a9842c65dfbf7687f1"
   }
  }
 },
 "nbformat": 4,
 "nbformat_minor": 2
}
